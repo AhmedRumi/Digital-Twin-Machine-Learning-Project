{
 "cells": [
  {
   "cell_type": "code",
   "execution_count": 78,
   "id": "7843b817",
   "metadata": {},
   "outputs": [],
   "source": [
    "import pandas as pd\n",
    "xr=pd.read_excel(\"Group 1.xlsx\")"
   ]
  },
  {
   "cell_type": "code",
   "execution_count": 79,
   "id": "d4deb2f1",
   "metadata": {},
   "outputs": [
    {
     "data": {
      "text/html": [
       "<div>\n",
       "<style scoped>\n",
       "    .dataframe tbody tr th:only-of-type {\n",
       "        vertical-align: middle;\n",
       "    }\n",
       "\n",
       "    .dataframe tbody tr th {\n",
       "        vertical-align: top;\n",
       "    }\n",
       "\n",
       "    .dataframe thead th {\n",
       "        text-align: right;\n",
       "    }\n",
       "</style>\n",
       "<table border=\"1\" class=\"dataframe\">\n",
       "  <thead>\n",
       "    <tr style=\"text-align: right;\">\n",
       "      <th></th>\n",
       "      <th>temperature_ambient</th>\n",
       "      <th>temperature_coolant</th>\n",
       "      <th>voltage_direct</th>\n",
       "      <th>voltage_quadrature</th>\n",
       "      <th>current_direct</th>\n",
       "      <th>current_quadrature</th>\n",
       "      <th>voltage_module</th>\n",
       "      <th>current_module</th>\n",
       "      <th>speed_motor</th>\n",
       "      <th>torque</th>\n",
       "      <th>temperature_stator_yoke</th>\n",
       "      <th>temperature_stator_tooth</th>\n",
       "      <th>temperature_stator_winding</th>\n",
       "    </tr>\n",
       "  </thead>\n",
       "  <tbody>\n",
       "    <tr>\n",
       "      <th>0</th>\n",
       "      <td>-0.2738</td>\n",
       "      <td>-1.07</td>\n",
       "      <td>0.180</td>\n",
       "      <td>1.6813</td>\n",
       "      <td>-0.756</td>\n",
       "      <td>-0.2550</td>\n",
       "      <td>1.6900</td>\n",
       "      <td>0.799</td>\n",
       "      <td>2.00</td>\n",
       "      <td>-0.2550</td>\n",
       "      <td>-0.8000</td>\n",
       "      <td>-0.4536</td>\n",
       "      <td>-0.3313</td>\n",
       "    </tr>\n",
       "    <tr>\n",
       "      <th>1</th>\n",
       "      <td>-0.2738</td>\n",
       "      <td>-1.07</td>\n",
       "      <td>-1.243</td>\n",
       "      <td>0.4830</td>\n",
       "      <td>-1.357</td>\n",
       "      <td>0.2360</td>\n",
       "      <td>1.3850</td>\n",
       "      <td>1.377</td>\n",
       "      <td>2.00</td>\n",
       "      <td>0.2870</td>\n",
       "      <td>-0.2770</td>\n",
       "      <td>0.3882</td>\n",
       "      <td>0.7125</td>\n",
       "    </tr>\n",
       "    <tr>\n",
       "      <th>2</th>\n",
       "      <td>-0.2738</td>\n",
       "      <td>-1.07</td>\n",
       "      <td>-1.560</td>\n",
       "      <td>-0.5040</td>\n",
       "      <td>-1.832</td>\n",
       "      <td>0.3426</td>\n",
       "      <td>1.6244</td>\n",
       "      <td>1.847</td>\n",
       "      <td>2.00</td>\n",
       "      <td>0.4358</td>\n",
       "      <td>0.1258</td>\n",
       "      <td>1.0378</td>\n",
       "      <td>1.5199</td>\n",
       "    </tr>\n",
       "    <tr>\n",
       "      <th>3</th>\n",
       "      <td>-0.2738</td>\n",
       "      <td>-1.07</td>\n",
       "      <td>0.298</td>\n",
       "      <td>0.9577</td>\n",
       "      <td>1.029</td>\n",
       "      <td>-0.2457</td>\n",
       "      <td>1.0581</td>\n",
       "      <td>1.058</td>\n",
       "      <td>-0.14</td>\n",
       "      <td>-0.2590</td>\n",
       "      <td>-1.5560</td>\n",
       "      <td>-1.6960</td>\n",
       "      <td>-1.7670</td>\n",
       "    </tr>\n",
       "    <tr>\n",
       "      <th>4</th>\n",
       "      <td>-0.2738</td>\n",
       "      <td>-1.07</td>\n",
       "      <td>-0.963</td>\n",
       "      <td>0.6420</td>\n",
       "      <td>0.386</td>\n",
       "      <td>1.1368</td>\n",
       "      <td>1.2006</td>\n",
       "      <td>1.205</td>\n",
       "      <td>-0.14</td>\n",
       "      <td>1.0205</td>\n",
       "      <td>-1.0530</td>\n",
       "      <td>-0.9620</td>\n",
       "      <td>-0.8456</td>\n",
       "    </tr>\n",
       "  </tbody>\n",
       "</table>\n",
       "</div>"
      ],
      "text/plain": [
       "   temperature_ambient  temperature_coolant  voltage_direct  \\\n",
       "0              -0.2738                -1.07           0.180   \n",
       "1              -0.2738                -1.07          -1.243   \n",
       "2              -0.2738                -1.07          -1.560   \n",
       "3              -0.2738                -1.07           0.298   \n",
       "4              -0.2738                -1.07          -0.963   \n",
       "\n",
       "   voltage_quadrature  current_direct  current_quadrature  voltage_module  \\\n",
       "0              1.6813          -0.756             -0.2550          1.6900   \n",
       "1              0.4830          -1.357              0.2360          1.3850   \n",
       "2             -0.5040          -1.832              0.3426          1.6244   \n",
       "3              0.9577           1.029             -0.2457          1.0581   \n",
       "4              0.6420           0.386              1.1368          1.2006   \n",
       "\n",
       "   current_module  speed_motor  torque  temperature_stator_yoke  \\\n",
       "0           0.799         2.00 -0.2550                  -0.8000   \n",
       "1           1.377         2.00  0.2870                  -0.2770   \n",
       "2           1.847         2.00  0.4358                   0.1258   \n",
       "3           1.058        -0.14 -0.2590                  -1.5560   \n",
       "4           1.205        -0.14  1.0205                  -1.0530   \n",
       "\n",
       "   temperature_stator_tooth  temperature_stator_winding  \n",
       "0                   -0.4536                     -0.3313  \n",
       "1                    0.3882                      0.7125  \n",
       "2                    1.0378                      1.5199  \n",
       "3                   -1.6960                     -1.7670  \n",
       "4                   -0.9620                     -0.8456  "
      ]
     },
     "execution_count": 79,
     "metadata": {},
     "output_type": "execute_result"
    }
   ],
   "source": [
    "xr.head()"
   ]
  },
  {
   "cell_type": "code",
   "execution_count": 80,
   "id": "02e0c808",
   "metadata": {},
   "outputs": [],
   "source": [
    "input_val=xr[[\"temperature_ambient\",\"temperature_coolant\",\"voltage_direct\",\"voltage_quadrature\",\"current_direct\",\"current_quadrature\",\"voltage_module\",\"current_module\"]]"
   ]
  },
  {
   "cell_type": "code",
   "execution_count": 81,
   "id": "bf3332ca",
   "metadata": {},
   "outputs": [],
   "source": [
    "input_arr=input_val.to_numpy()"
   ]
  },
  {
   "cell_type": "code",
   "execution_count": 82,
   "id": "866bc3a4",
   "metadata": {},
   "outputs": [],
   "source": [
    "Ys=xr[[\"temperature_stator_tooth\"]]"
   ]
  },
  {
   "cell_type": "code",
   "execution_count": 83,
   "id": "c14ba3e7",
   "metadata": {},
   "outputs": [],
   "source": [
    "Ys=Ys.to_numpy()"
   ]
  },
  {
   "cell_type": "code",
   "execution_count": 84,
   "id": "98b72408",
   "metadata": {},
   "outputs": [],
   "source": [
    "from sklearn.linear_model import LinearRegression\n",
    "from sklearn.model_selection import train_test_split\n",
    "from sklearn.metrics import mean_squared_error\n",
    "from sklearn.ensemble import RandomForestRegressor\n"
   ]
  },
  {
   "cell_type": "code",
   "execution_count": 85,
   "id": "535e87ad",
   "metadata": {},
   "outputs": [],
   "source": [
    "import numpy as np"
   ]
  },
  {
   "cell_type": "code",
   "execution_count": 86,
   "id": "c028e5ef",
   "metadata": {},
   "outputs": [],
   "source": [
    "X_train, X_test, y_train, y_test = train_test_split(input_arr,Ys, test_size=0.1, random_state=19)"
   ]
  },
  {
   "cell_type": "code",
   "execution_count": 87,
   "id": "e5688f37",
   "metadata": {},
   "outputs": [
    {
     "data": {
      "text/plain": [
       "LinearRegression()"
      ]
     },
     "execution_count": 87,
     "metadata": {},
     "output_type": "execute_result"
    }
   ],
   "source": [
    "# Create a linear regression model\n",
    "model = LinearRegression()\n",
    "#model = RandomForestRegressor()\n",
    "# Train the model\n",
    "model.fit(X_train, y_train)"
   ]
  },
  {
   "cell_type": "code",
   "execution_count": 88,
   "id": "7107d120",
   "metadata": {},
   "outputs": [
    {
     "name": "stdout",
     "output_type": "stream",
     "text": [
      "Mean Squared Error: 0.013418737447586714\n"
     ]
    }
   ],
   "source": [
    "# Make predictions on the test set\n",
    "y_pred = model.predict(X_test)\n",
    "\n",
    "# Calculate the mean squared error\n",
    "mse = mean_squared_error(y_test, y_pred)\n",
    "print(\"Mean Squared Error:\", mse)\n"
   ]
  },
  {
   "cell_type": "code",
   "execution_count": 94,
   "id": "f15ed64f",
   "metadata": {},
   "outputs": [
    {
     "name": "stdout",
     "output_type": "stream",
     "text": [
      "Linear Function: y = [-0.51956932] + [ 0.03903597  0.896155   -0.05781295  0.06823894 -0.73457025  0.07048781\n",
      "  0.01468039  0.42956214] * x\n"
     ]
    }
   ],
   "source": [
    "# Get the coefficients and intercept\n",
    "coefficients = model.coef_\n",
    "intercept = model.intercept_\n",
    "\n",
    "# Print the linear function\n",
    "linear_function = \"y = {} + {} * x\".format(intercept, coefficients[0])\n",
    "print(\"Linear Function:\", linear_function)"
   ]
  },
  {
   "cell_type": "code",
   "execution_count": 102,
   "id": "c19cff65",
   "metadata": {},
   "outputs": [
    {
     "ename": "ValueError",
     "evalue": "Expected 2D array, got 1D array instead:\narray=[-0.8249  -1.0722   0.2989   1.75163  1.02927 -0.246    1.7757   1.0583 ].\nReshape your data either using array.reshape(-1, 1) if your data has a single feature or array.reshape(1, -1) if it contains a single sample.",
     "output_type": "error",
     "traceback": [
      "\u001b[1;31m---------------------------------------------------------------------------\u001b[0m",
      "\u001b[1;31mValueError\u001b[0m                                Traceback (most recent call last)",
      "Input \u001b[1;32mIn [102]\u001b[0m, in \u001b[0;36m<cell line: 3>\u001b[1;34m()\u001b[0m\n\u001b[0;32m      1\u001b[0m \u001b[38;5;28;01mimport\u001b[39;00m \u001b[38;5;21;01mmatplotlib\u001b[39;00m\u001b[38;5;21;01m.\u001b[39;00m\u001b[38;5;21;01mpyplot\u001b[39;00m \u001b[38;5;28;01mas\u001b[39;00m \u001b[38;5;21;01mplt\u001b[39;00m\n\u001b[0;32m      2\u001b[0m \u001b[38;5;66;03m# Make predictions on the test data\u001b[39;00m\n\u001b[1;32m----> 3\u001b[0m y_pred \u001b[38;5;241m=\u001b[39m \u001b[43mmodel\u001b[49m\u001b[38;5;241;43m.\u001b[39;49m\u001b[43mpredict\u001b[49m\u001b[43m(\u001b[49m\u001b[43mX_test\u001b[49m\u001b[43m[\u001b[49m\u001b[38;5;241;43m3\u001b[39;49m\u001b[43m]\u001b[49m\u001b[43m)\u001b[49m\n\u001b[0;32m      5\u001b[0m \u001b[38;5;66;03m# Plot the input vs. predictions\u001b[39;00m\n\u001b[0;32m      6\u001b[0m plt\u001b[38;5;241m.\u001b[39mscatter(X_test[\u001b[38;5;241m3\u001b[39m], y_test, color\u001b[38;5;241m=\u001b[39m\u001b[38;5;124m'\u001b[39m\u001b[38;5;124mb\u001b[39m\u001b[38;5;124m'\u001b[39m, label\u001b[38;5;241m=\u001b[39m\u001b[38;5;124m'\u001b[39m\u001b[38;5;124mActual\u001b[39m\u001b[38;5;124m'\u001b[39m)\n",
      "File \u001b[1;32mD:\\Anakonda\\lib\\site-packages\\sklearn\\linear_model\\_base.py:362\u001b[0m, in \u001b[0;36mLinearModel.predict\u001b[1;34m(self, X)\u001b[0m\n\u001b[0;32m    348\u001b[0m \u001b[38;5;28;01mdef\u001b[39;00m \u001b[38;5;21mpredict\u001b[39m(\u001b[38;5;28mself\u001b[39m, X):\n\u001b[0;32m    349\u001b[0m     \u001b[38;5;124;03m\"\"\"\u001b[39;00m\n\u001b[0;32m    350\u001b[0m \u001b[38;5;124;03m    Predict using the linear model.\u001b[39;00m\n\u001b[0;32m    351\u001b[0m \n\u001b[1;32m   (...)\u001b[0m\n\u001b[0;32m    360\u001b[0m \u001b[38;5;124;03m        Returns predicted values.\u001b[39;00m\n\u001b[0;32m    361\u001b[0m \u001b[38;5;124;03m    \"\"\"\u001b[39;00m\n\u001b[1;32m--> 362\u001b[0m     \u001b[38;5;28;01mreturn\u001b[39;00m \u001b[38;5;28;43mself\u001b[39;49m\u001b[38;5;241;43m.\u001b[39;49m\u001b[43m_decision_function\u001b[49m\u001b[43m(\u001b[49m\u001b[43mX\u001b[49m\u001b[43m)\u001b[49m\n",
      "File \u001b[1;32mD:\\Anakonda\\lib\\site-packages\\sklearn\\linear_model\\_base.py:345\u001b[0m, in \u001b[0;36mLinearModel._decision_function\u001b[1;34m(self, X)\u001b[0m\n\u001b[0;32m    342\u001b[0m \u001b[38;5;28;01mdef\u001b[39;00m \u001b[38;5;21m_decision_function\u001b[39m(\u001b[38;5;28mself\u001b[39m, X):\n\u001b[0;32m    343\u001b[0m     check_is_fitted(\u001b[38;5;28mself\u001b[39m)\n\u001b[1;32m--> 345\u001b[0m     X \u001b[38;5;241m=\u001b[39m \u001b[38;5;28;43mself\u001b[39;49m\u001b[38;5;241;43m.\u001b[39;49m\u001b[43m_validate_data\u001b[49m\u001b[43m(\u001b[49m\u001b[43mX\u001b[49m\u001b[43m,\u001b[49m\u001b[43m \u001b[49m\u001b[43maccept_sparse\u001b[49m\u001b[38;5;241;43m=\u001b[39;49m\u001b[43m[\u001b[49m\u001b[38;5;124;43m\"\u001b[39;49m\u001b[38;5;124;43mcsr\u001b[39;49m\u001b[38;5;124;43m\"\u001b[39;49m\u001b[43m,\u001b[49m\u001b[43m \u001b[49m\u001b[38;5;124;43m\"\u001b[39;49m\u001b[38;5;124;43mcsc\u001b[39;49m\u001b[38;5;124;43m\"\u001b[39;49m\u001b[43m,\u001b[49m\u001b[43m \u001b[49m\u001b[38;5;124;43m\"\u001b[39;49m\u001b[38;5;124;43mcoo\u001b[39;49m\u001b[38;5;124;43m\"\u001b[39;49m\u001b[43m]\u001b[49m\u001b[43m,\u001b[49m\u001b[43m \u001b[49m\u001b[43mreset\u001b[49m\u001b[38;5;241;43m=\u001b[39;49m\u001b[38;5;28;43;01mFalse\u001b[39;49;00m\u001b[43m)\u001b[49m\n\u001b[0;32m    346\u001b[0m     \u001b[38;5;28;01mreturn\u001b[39;00m safe_sparse_dot(X, \u001b[38;5;28mself\u001b[39m\u001b[38;5;241m.\u001b[39mcoef_\u001b[38;5;241m.\u001b[39mT, dense_output\u001b[38;5;241m=\u001b[39m\u001b[38;5;28;01mTrue\u001b[39;00m) \u001b[38;5;241m+\u001b[39m \u001b[38;5;28mself\u001b[39m\u001b[38;5;241m.\u001b[39mintercept_\n",
      "File \u001b[1;32mD:\\Anakonda\\lib\\site-packages\\sklearn\\base.py:566\u001b[0m, in \u001b[0;36mBaseEstimator._validate_data\u001b[1;34m(self, X, y, reset, validate_separately, **check_params)\u001b[0m\n\u001b[0;32m    564\u001b[0m     \u001b[38;5;28;01mraise\u001b[39;00m \u001b[38;5;167;01mValueError\u001b[39;00m(\u001b[38;5;124m\"\u001b[39m\u001b[38;5;124mValidation should be done on X, y or both.\u001b[39m\u001b[38;5;124m\"\u001b[39m)\n\u001b[0;32m    565\u001b[0m \u001b[38;5;28;01melif\u001b[39;00m \u001b[38;5;129;01mnot\u001b[39;00m no_val_X \u001b[38;5;129;01mand\u001b[39;00m no_val_y:\n\u001b[1;32m--> 566\u001b[0m     X \u001b[38;5;241m=\u001b[39m check_array(X, \u001b[38;5;241m*\u001b[39m\u001b[38;5;241m*\u001b[39mcheck_params)\n\u001b[0;32m    567\u001b[0m     out \u001b[38;5;241m=\u001b[39m X\n\u001b[0;32m    568\u001b[0m \u001b[38;5;28;01melif\u001b[39;00m no_val_X \u001b[38;5;129;01mand\u001b[39;00m \u001b[38;5;129;01mnot\u001b[39;00m no_val_y:\n",
      "File \u001b[1;32mD:\\Anakonda\\lib\\site-packages\\sklearn\\utils\\validation.py:769\u001b[0m, in \u001b[0;36mcheck_array\u001b[1;34m(array, accept_sparse, accept_large_sparse, dtype, order, copy, force_all_finite, ensure_2d, allow_nd, ensure_min_samples, ensure_min_features, estimator)\u001b[0m\n\u001b[0;32m    767\u001b[0m     \u001b[38;5;66;03m# If input is 1D raise error\u001b[39;00m\n\u001b[0;32m    768\u001b[0m     \u001b[38;5;28;01mif\u001b[39;00m array\u001b[38;5;241m.\u001b[39mndim \u001b[38;5;241m==\u001b[39m \u001b[38;5;241m1\u001b[39m:\n\u001b[1;32m--> 769\u001b[0m         \u001b[38;5;28;01mraise\u001b[39;00m \u001b[38;5;167;01mValueError\u001b[39;00m(\n\u001b[0;32m    770\u001b[0m             \u001b[38;5;124m\"\u001b[39m\u001b[38;5;124mExpected 2D array, got 1D array instead:\u001b[39m\u001b[38;5;130;01m\\n\u001b[39;00m\u001b[38;5;124marray=\u001b[39m\u001b[38;5;132;01m{}\u001b[39;00m\u001b[38;5;124m.\u001b[39m\u001b[38;5;130;01m\\n\u001b[39;00m\u001b[38;5;124m\"\u001b[39m\n\u001b[0;32m    771\u001b[0m             \u001b[38;5;124m\"\u001b[39m\u001b[38;5;124mReshape your data either using array.reshape(-1, 1) if \u001b[39m\u001b[38;5;124m\"\u001b[39m\n\u001b[0;32m    772\u001b[0m             \u001b[38;5;124m\"\u001b[39m\u001b[38;5;124myour data has a single feature or array.reshape(1, -1) \u001b[39m\u001b[38;5;124m\"\u001b[39m\n\u001b[0;32m    773\u001b[0m             \u001b[38;5;124m\"\u001b[39m\u001b[38;5;124mif it contains a single sample.\u001b[39m\u001b[38;5;124m\"\u001b[39m\u001b[38;5;241m.\u001b[39mformat(array)\n\u001b[0;32m    774\u001b[0m         )\n\u001b[0;32m    776\u001b[0m \u001b[38;5;66;03m# make sure we actually converted to numeric:\u001b[39;00m\n\u001b[0;32m    777\u001b[0m \u001b[38;5;28;01mif\u001b[39;00m dtype_numeric \u001b[38;5;129;01mand\u001b[39;00m array\u001b[38;5;241m.\u001b[39mdtype\u001b[38;5;241m.\u001b[39mkind \u001b[38;5;129;01min\u001b[39;00m \u001b[38;5;124m\"\u001b[39m\u001b[38;5;124mOUSV\u001b[39m\u001b[38;5;124m\"\u001b[39m:\n",
      "\u001b[1;31mValueError\u001b[0m: Expected 2D array, got 1D array instead:\narray=[-0.8249  -1.0722   0.2989   1.75163  1.02927 -0.246    1.7757   1.0583 ].\nReshape your data either using array.reshape(-1, 1) if your data has a single feature or array.reshape(1, -1) if it contains a single sample."
     ]
    }
   ],
   "source": [
    "import matplotlib.pyplot as plt\n",
    "# Make predictions on the test data\n",
    "y_pred = model.predict(X_test[3])\n",
    "\n",
    "# Plot the input vs. predictions\n",
    "plt.scatter(X_test[3], y_test, color='b', label='Actual')\n",
    "plt.plot(X_test[3], y_pred, color='r', label='Predicted')\n",
    "plt.xlabel('Input')\n",
    "plt.ylabel('Prediction')\n",
    "plt.title('Input vs. Prediction')\n",
    "plt.legend()\n",
    "plt.show()"
   ]
  },
  {
   "cell_type": "code",
   "execution_count": null,
   "id": "e8c970a4",
   "metadata": {},
   "outputs": [],
   "source": []
  }
 ],
 "metadata": {
  "kernelspec": {
   "display_name": "Python 3 (ipykernel)",
   "language": "python",
   "name": "python3"
  },
  "language_info": {
   "codemirror_mode": {
    "name": "ipython",
    "version": 3
   },
   "file_extension": ".py",
   "mimetype": "text/x-python",
   "name": "python",
   "nbconvert_exporter": "python",
   "pygments_lexer": "ipython3",
   "version": "3.9.12"
  }
 },
 "nbformat": 4,
 "nbformat_minor": 5
}
