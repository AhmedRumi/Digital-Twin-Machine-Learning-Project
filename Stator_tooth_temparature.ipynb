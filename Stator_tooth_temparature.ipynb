{
 "cells": [
  {
   "cell_type": "code",
   "execution_count": 109,
   "id": "7843b817",
   "metadata": {},
   "outputs": [],
   "source": [
    "import pandas as pd\n",
    "xr=pd.read_excel(\"Group 1.xlsx\")"
   ]
  },
  {
   "cell_type": "code",
   "execution_count": 110,
   "id": "d4deb2f1",
   "metadata": {},
   "outputs": [
    {
     "data": {
      "text/html": [
       "<div>\n",
       "<style scoped>\n",
       "    .dataframe tbody tr th:only-of-type {\n",
       "        vertical-align: middle;\n",
       "    }\n",
       "\n",
       "    .dataframe tbody tr th {\n",
       "        vertical-align: top;\n",
       "    }\n",
       "\n",
       "    .dataframe thead th {\n",
       "        text-align: right;\n",
       "    }\n",
       "</style>\n",
       "<table border=\"1\" class=\"dataframe\">\n",
       "  <thead>\n",
       "    <tr style=\"text-align: right;\">\n",
       "      <th></th>\n",
       "      <th>temperature_ambient</th>\n",
       "      <th>temperature_coolant</th>\n",
       "      <th>voltage_direct</th>\n",
       "      <th>voltage_quadrature</th>\n",
       "      <th>current_direct</th>\n",
       "      <th>current_quadrature</th>\n",
       "      <th>voltage_module</th>\n",
       "      <th>current_module</th>\n",
       "      <th>speed_motor</th>\n",
       "      <th>torque</th>\n",
       "      <th>temperature_stator_yoke</th>\n",
       "      <th>temperature_stator_tooth</th>\n",
       "      <th>temperature_stator_winding</th>\n",
       "    </tr>\n",
       "  </thead>\n",
       "  <tbody>\n",
       "    <tr>\n",
       "      <th>0</th>\n",
       "      <td>-0.2738</td>\n",
       "      <td>-1.07</td>\n",
       "      <td>0.180</td>\n",
       "      <td>1.6813</td>\n",
       "      <td>-0.756</td>\n",
       "      <td>-0.2550</td>\n",
       "      <td>1.6900</td>\n",
       "      <td>0.799</td>\n",
       "      <td>2.00</td>\n",
       "      <td>-0.2550</td>\n",
       "      <td>-0.8000</td>\n",
       "      <td>-0.4536</td>\n",
       "      <td>-0.3313</td>\n",
       "    </tr>\n",
       "    <tr>\n",
       "      <th>1</th>\n",
       "      <td>-0.2738</td>\n",
       "      <td>-1.07</td>\n",
       "      <td>-1.243</td>\n",
       "      <td>0.4830</td>\n",
       "      <td>-1.357</td>\n",
       "      <td>0.2360</td>\n",
       "      <td>1.3850</td>\n",
       "      <td>1.377</td>\n",
       "      <td>2.00</td>\n",
       "      <td>0.2870</td>\n",
       "      <td>-0.2770</td>\n",
       "      <td>0.3882</td>\n",
       "      <td>0.7125</td>\n",
       "    </tr>\n",
       "    <tr>\n",
       "      <th>2</th>\n",
       "      <td>-0.2738</td>\n",
       "      <td>-1.07</td>\n",
       "      <td>-1.560</td>\n",
       "      <td>-0.5040</td>\n",
       "      <td>-1.832</td>\n",
       "      <td>0.3426</td>\n",
       "      <td>1.6244</td>\n",
       "      <td>1.847</td>\n",
       "      <td>2.00</td>\n",
       "      <td>0.4358</td>\n",
       "      <td>0.1258</td>\n",
       "      <td>1.0378</td>\n",
       "      <td>1.5199</td>\n",
       "    </tr>\n",
       "    <tr>\n",
       "      <th>3</th>\n",
       "      <td>-0.2738</td>\n",
       "      <td>-1.07</td>\n",
       "      <td>0.298</td>\n",
       "      <td>0.9577</td>\n",
       "      <td>1.029</td>\n",
       "      <td>-0.2457</td>\n",
       "      <td>1.0581</td>\n",
       "      <td>1.058</td>\n",
       "      <td>-0.14</td>\n",
       "      <td>-0.2590</td>\n",
       "      <td>-1.5560</td>\n",
       "      <td>-1.6960</td>\n",
       "      <td>-1.7670</td>\n",
       "    </tr>\n",
       "    <tr>\n",
       "      <th>4</th>\n",
       "      <td>-0.2738</td>\n",
       "      <td>-1.07</td>\n",
       "      <td>-0.963</td>\n",
       "      <td>0.6420</td>\n",
       "      <td>0.386</td>\n",
       "      <td>1.1368</td>\n",
       "      <td>1.2006</td>\n",
       "      <td>1.205</td>\n",
       "      <td>-0.14</td>\n",
       "      <td>1.0205</td>\n",
       "      <td>-1.0530</td>\n",
       "      <td>-0.9620</td>\n",
       "      <td>-0.8456</td>\n",
       "    </tr>\n",
       "  </tbody>\n",
       "</table>\n",
       "</div>"
      ],
      "text/plain": [
       "   temperature_ambient  temperature_coolant  voltage_direct  \\\n",
       "0              -0.2738                -1.07           0.180   \n",
       "1              -0.2738                -1.07          -1.243   \n",
       "2              -0.2738                -1.07          -1.560   \n",
       "3              -0.2738                -1.07           0.298   \n",
       "4              -0.2738                -1.07          -0.963   \n",
       "\n",
       "   voltage_quadrature  current_direct  current_quadrature  voltage_module  \\\n",
       "0              1.6813          -0.756             -0.2550          1.6900   \n",
       "1              0.4830          -1.357              0.2360          1.3850   \n",
       "2             -0.5040          -1.832              0.3426          1.6244   \n",
       "3              0.9577           1.029             -0.2457          1.0581   \n",
       "4              0.6420           0.386              1.1368          1.2006   \n",
       "\n",
       "   current_module  speed_motor  torque  temperature_stator_yoke  \\\n",
       "0           0.799         2.00 -0.2550                  -0.8000   \n",
       "1           1.377         2.00  0.2870                  -0.2770   \n",
       "2           1.847         2.00  0.4358                   0.1258   \n",
       "3           1.058        -0.14 -0.2590                  -1.5560   \n",
       "4           1.205        -0.14  1.0205                  -1.0530   \n",
       "\n",
       "   temperature_stator_tooth  temperature_stator_winding  \n",
       "0                   -0.4536                     -0.3313  \n",
       "1                    0.3882                      0.7125  \n",
       "2                    1.0378                      1.5199  \n",
       "3                   -1.6960                     -1.7670  \n",
       "4                   -0.9620                     -0.8456  "
      ]
     },
     "execution_count": 110,
     "metadata": {},
     "output_type": "execute_result"
    }
   ],
   "source": [
    "xr.head()"
   ]
  },
  {
   "cell_type": "code",
   "execution_count": 111,
   "id": "02e0c808",
   "metadata": {},
   "outputs": [],
   "source": [
    "input_val=xr[[\"temperature_ambient\",\"temperature_coolant\",\"voltage_direct\",\"voltage_quadrature\",\"current_direct\",\"current_quadrature\",\"voltage_module\",\"current_module\"]]"
   ]
  },
  {
   "cell_type": "code",
   "execution_count": 112,
   "id": "bf3332ca",
   "metadata": {},
   "outputs": [],
   "source": [
    "input_arr=input_val.to_numpy()"
   ]
  },
  {
   "cell_type": "code",
   "execution_count": 113,
   "id": "866bc3a4",
   "metadata": {},
   "outputs": [],
   "source": [
    "Ys=xr[[\"temperature_stator_tooth\"]]"
   ]
  },
  {
   "cell_type": "code",
   "execution_count": 114,
   "id": "c14ba3e7",
   "metadata": {},
   "outputs": [],
   "source": [
    "Ys=Ys.to_numpy()"
   ]
  },
  {
   "cell_type": "code",
   "execution_count": 115,
   "id": "98b72408",
   "metadata": {},
   "outputs": [],
   "source": [
    "from sklearn.linear_model import LinearRegression\n",
    "from sklearn.model_selection import train_test_split\n",
    "from sklearn.metrics import mean_squared_error\n",
    "from sklearn.ensemble import RandomForestRegressor\n",
    "from sklearn.linear_model import BayesianRidge\n",
    "from sklearn.kernel_ridge import KernelRidge"
   ]
  },
  {
   "cell_type": "code",
   "execution_count": 116,
   "id": "535e87ad",
   "metadata": {},
   "outputs": [],
   "source": [
    "import numpy as np"
   ]
  },
  {
   "cell_type": "code",
   "execution_count": 121,
   "id": "c028e5ef",
   "metadata": {},
   "outputs": [],
   "source": [
    "X_train, X_test, y_train, y_test = train_test_split(input_arr,Ys, test_size=0.1, random_state=19)"
   ]
  },
  {
   "cell_type": "code",
   "execution_count": 122,
   "id": "e5688f37",
   "metadata": {},
   "outputs": [
    {
     "data": {
      "text/plain": [
       "KernelRidge()"
      ]
     },
     "execution_count": 122,
     "metadata": {},
     "output_type": "execute_result"
    }
   ],
   "source": [
    "# Create a linear regression model\n",
    "# model = LinearRegression()\n",
    "model=KernelRidge()\n",
    "# model=BayesianRidge()\n",
    "#model = RandomForestRegressor()\n",
    "# Train the model\n",
    "model.fit(X_train, y_train)"
   ]
  },
  {
   "cell_type": "code",
   "execution_count": 123,
   "id": "7107d120",
   "metadata": {},
   "outputs": [
    {
     "name": "stdout",
     "output_type": "stream",
     "text": [
      "Mean Squared Error: 0.027418770475548707\n"
     ]
    }
   ],
   "source": [
    "# Make predictions on the test set\n",
    "y_pred = model.predict(X_test)\n",
    "\n",
    "# Calculate the mean squared error\n",
    "mse = mean_squared_error(y_test, y_pred)\n",
    "print(\"Mean Squared Error:\", mse)\n"
   ]
  },
  {
   "cell_type": "code",
   "execution_count": 120,
   "id": "f15ed64f",
   "metadata": {},
   "outputs": [
    {
     "ename": "AttributeError",
     "evalue": "'KernelRidge' object has no attribute 'coef_'",
     "output_type": "error",
     "traceback": [
      "\u001b[1;31m---------------------------------------------------------------------------\u001b[0m",
      "\u001b[1;31mAttributeError\u001b[0m                            Traceback (most recent call last)",
      "Input \u001b[1;32mIn [120]\u001b[0m, in \u001b[0;36m<cell line: 2>\u001b[1;34m()\u001b[0m\n\u001b[0;32m      1\u001b[0m \u001b[38;5;66;03m# Get the coefficients and intercept\u001b[39;00m\n\u001b[1;32m----> 2\u001b[0m coefficients \u001b[38;5;241m=\u001b[39m \u001b[43mmodel\u001b[49m\u001b[38;5;241;43m.\u001b[39;49m\u001b[43mcoef_\u001b[49m\n\u001b[0;32m      3\u001b[0m intercept \u001b[38;5;241m=\u001b[39m model\u001b[38;5;241m.\u001b[39mintercept_\n\u001b[0;32m      5\u001b[0m \u001b[38;5;66;03m# Print the linear function\u001b[39;00m\n",
      "\u001b[1;31mAttributeError\u001b[0m: 'KernelRidge' object has no attribute 'coef_'"
     ]
    }
   ],
   "source": [
    "# # Get the coefficients and intercept\n",
    "# coefficients = model.coef_\n",
    "# intercept = model.intercept_\n",
    "\n",
    "# # Print the linear function\n",
    "# linear_function = \"y = {} + {} * x\".format(intercept, coefficients[0])\n",
    "# print(\"Linear Function:\", linear_function)"
   ]
  },
  {
   "cell_type": "code",
   "execution_count": null,
   "id": "c19cff65",
   "metadata": {},
   "outputs": [],
   "source": [
    "import matplotlib.pyplot as plt\n",
    "# Make predictions on the test data\n",
    "x=np.zeros((8,60))\n",
    "x[0]=np.full(60,-0.603)\n",
    "x[1]=np.full(60,-0.393)\n",
    "x[2]=np.full(60,-0.359)\n",
    "x[3]=np.random.uniform(-2, 2, 60)\n",
    "x[4]=np.full(60,0.0834)\n",
    "x[5]=np.full(60,0.231)\n",
    "x[6]=np.full(60,1.26) \n",
    "x[7]=np.full(60,1.19) \n",
    "varying_val=x[3].reshape((60,1))\n",
    "x=x.T\n",
    "print(x.shape)\n",
    "print(varying_val.shape)\n",
    "y_pred = model.predict(x)\n",
    "pred=model.predict(X_test)\n",
    "y=model.predict(X_test)\n",
    "# Plot the input vs. predictions\n",
    "plt.scatter(X_test.T[3].reshape(y_test.shape), y_test, color='b', label='Actual')\n",
    "plt.scatter(X_test.T[3].reshape(y_test.shape), pred, color='r', label='Predicted')\n",
    "plt.xlabel('Input')\n",
    "plt.ylabel('Prediction')\n",
    "plt.title('Input vs. Prediction')\n",
    "plt.legend()\n",
    "plt.show()\n",
    "plt.clf()\n",
    "plt.plot(varying_val, y_pred, color='r', label='Predicted')\n",
    "\n",
    "plt.xlabel('voltage_quadrature')\n",
    "plt.ylabel('temperature_stator_tooth')\n",
    "plt.title('voltage_quadrature vs. temperature_stator_tooth')\n",
    "plt.legend()\n",
    "plt.show()"
   ]
  },
  {
   "cell_type": "code",
   "execution_count": null,
   "id": "e8c970a4",
   "metadata": {},
   "outputs": [],
   "source": []
  }
 ],
 "metadata": {
  "kernelspec": {
   "display_name": "Python 3 (ipykernel)",
   "language": "python",
   "name": "python3"
  },
  "language_info": {
   "codemirror_mode": {
    "name": "ipython",
    "version": 3
   },
   "file_extension": ".py",
   "mimetype": "text/x-python",
   "name": "python",
   "nbconvert_exporter": "python",
   "pygments_lexer": "ipython3",
   "version": "3.9.12"
  }
 },
 "nbformat": 4,
 "nbformat_minor": 5
}
